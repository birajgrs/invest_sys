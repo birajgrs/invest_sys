{
 "cells": [
  {
   "cell_type": "code",
   "execution_count": 2,
   "metadata": {},
   "outputs": [
    {
     "name": "stdout",
     "output_type": "stream",
     "text": [
      "Data has been successfully exported to business_loans.csv\n"
     ]
    }
   ],
   "source": [
    "import csv\n",
    "import requests\n",
    "from bs4 import BeautifulSoup\n",
    "import re\n",
    "\n",
    "# URL of the webpage to scrape\n",
    "url = \"https://bankbyaj.com/detail/business-loan\"\n",
    "\n",
    "# Send a GET request to the URL\n",
    "response = requests.get(url)\n",
    "\n",
    "# Check if the request was successful\n",
    "if response.status_code == 200:\n",
    "    # Parse the HTML content\n",
    "    soup = BeautifulSoup(response.text, 'html.parser')\n",
    "    \n",
    "    # Find the table element\n",
    "    table = soup.find('table', {'class': 'table table-striped'})\n",
    "    \n",
    "    # Check if the table exists\n",
    "    if table:\n",
    "        # Initialize lists to store data\n",
    "        bank_names = []\n",
    "        loan_names = []\n",
    "        interest_rates = []\n",
    "        \n",
    "        # Find all table rows except the header row\n",
    "        rows = table.find_all('tr')[1:]\n",
    "        \n",
    "        # Loop through each row and extract data\n",
    "        for row in rows:\n",
    "            # Extract data from each column\n",
    "            columns = row.find_all('td')\n",
    "            bank_name_tag = row.find('th')\n",
    "            bank_name = bank_name_tag.find('span').text.strip() if bank_name_tag else \"\"\n",
    "            loan_name = columns[0].text.strip()\n",
    "            interest_rate = columns[1].text.strip()\n",
    "            \n",
    "            # Append data to lists\n",
    "            bank_names.append(bank_name)\n",
    "            loan_names.append(loan_name)\n",
    "            interest_rates.append(interest_rate)\n",
    "        \n",
    "        # Combine lists into a list of tuples\n",
    "        data = zip(bank_names, loan_names, interest_rates)\n",
    "        \n",
    "        # Define CSV file path\n",
    "        csv_file = \"business_loans.csv\"\n",
    "        \n",
    "        # Write data to CSV file\n",
    "        with open(csv_file, 'w', newline='', encoding='utf-8') as file:\n",
    "            writer = csv.writer(file)\n",
    "            # Write header row\n",
    "            writer.writerow(['Bank/FI', 'Loan Name', 'Interest Rate'])\n",
    "            # Write data rows\n",
    "            writer.writerows(data)\n",
    "        \n",
    "        print(\"Data has been successfully exported to\", csv_file)\n",
    "    else:\n",
    "        print(\"Table not found on the webpage.\")\n",
    "else:\n",
    "    print(\"Failed to retrieve the webpage. Status code:\", response.status_code)\n"
   ]
  }
 ],
 "metadata": {
  "kernelspec": {
   "display_name": "base",
   "language": "python",
   "name": "python3"
  },
  "language_info": {
   "codemirror_mode": {
    "name": "ipython",
    "version": 3
   },
   "file_extension": ".py",
   "mimetype": "text/x-python",
   "name": "python",
   "nbconvert_exporter": "python",
   "pygments_lexer": "ipython3",
   "version": "3.11.7"
  }
 },
 "nbformat": 4,
 "nbformat_minor": 2
}
